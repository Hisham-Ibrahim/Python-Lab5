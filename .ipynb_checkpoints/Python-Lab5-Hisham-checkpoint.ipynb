{
 "cells": [
  {
   "cell_type": "markdown",
   "id": "d18fa6d0",
   "metadata": {},
   "source": [
    "# Python-Lab5\n"
   ]
  },
  {
   "cell_type": "markdown",
   "id": "6462b388",
   "metadata": {},
   "source": [
    "## Lists\n"
   ]
  },
  {
   "cell_type": "markdown",
   "id": "dd9c84fc",
   "metadata": {},
   "source": [
    "### Given the following list : [5, 4, 17, 19, 30, 2, 7, 10, 45]\n",
    "\n",
    "- Q1: Write a Python program to sum all the items in the list.\n"
   ]
  },
  {
   "cell_type": "code",
   "execution_count": 14,
   "id": "5f83999e",
   "metadata": {},
   "outputs": [],
   "source": [
    "l1=[5, 4, 17, 19, 30, 2, 7, 10, 45]"
   ]
  },
  {
   "cell_type": "code",
   "execution_count": 15,
   "id": "f281cdbc",
   "metadata": {},
   "outputs": [
    {
     "data": {
      "text/plain": [
       "139"
      ]
     },
     "execution_count": 15,
     "metadata": {},
     "output_type": "execute_result"
    }
   ],
   "source": [
    "sum(l1) #using sum function"
   ]
  },
  {
   "cell_type": "markdown",
   "id": "8ec12c2a",
   "metadata": {},
   "source": [
    "- Q2: Write a Python program to get the largest number from the list.\n"
   ]
  },
  {
   "cell_type": "code",
   "execution_count": 16,
   "id": "a22f92a2",
   "metadata": {},
   "outputs": [
    {
     "data": {
      "text/plain": [
       "45"
      ]
     },
     "execution_count": 16,
     "metadata": {},
     "output_type": "execute_result"
    }
   ],
   "source": [
    "max(l1) #using max function"
   ]
  },
  {
   "cell_type": "markdown",
   "id": "8ff8519b",
   "metadata": {},
   "source": [
    "- Q3: Use list comprehension, create a new list from the above list containing only even numbers.\n"
   ]
  },
  {
   "cell_type": "code",
   "execution_count": 22,
   "id": "deba2b8b",
   "metadata": {},
   "outputs": [
    {
     "data": {
      "text/plain": [
       "[4, 30, 2, 10]"
      ]
     },
     "execution_count": 22,
     "metadata": {},
     "output_type": "execute_result"
    }
   ],
   "source": [
    "l2=[x for x in l1 if x%2==0  ]\n",
    "l2"
   ]
  },
  {
   "cell_type": "markdown",
   "id": "3cef0b81",
   "metadata": {},
   "source": [
    "- Q4: Use list slicing to get a new list from the previous list starting from the start to the 5th element in the list."
   ]
  },
  {
   "cell_type": "code",
   "execution_count": 11,
   "id": "344ef47c",
   "metadata": {},
   "outputs": [],
   "source": [
    "l3 = l1[5:] #specify the start and end\n",
    "l3"
   ]
  }
 ],
 "metadata": {
  "kernelspec": {
   "display_name": "Python 3 (ipykernel)",
   "language": "python",
   "name": "python3"
  },
  "language_info": {
   "codemirror_mode": {
    "name": "ipython",
    "version": 3
   },
   "file_extension": ".py",
   "mimetype": "text/x-python",
   "name": "python",
   "nbconvert_exporter": "python",
   "pygments_lexer": "ipython3",
   "version": "3.9.12"
  }
 },
 "nbformat": 4,
 "nbformat_minor": 5
}
